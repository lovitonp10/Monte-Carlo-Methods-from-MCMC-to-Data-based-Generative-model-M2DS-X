{
 "cells": [
  {
   "cell_type": "markdown",
   "metadata": {},
   "source": [
    "# <font color=darkcyan> First implementation of a few MCMC algorithms</font>\n",
    "#### <font color=darkorange>Metropolis-Hastings and MALA </font>"
   ]
  },
  {
   "cell_type": "code",
   "execution_count": 1,
   "metadata": {},
   "outputs": [],
   "source": [
    "# ignore warnings for better clarity (may not be the best thing to do)...\n",
    "import warnings\n",
    "warnings.filterwarnings('ignore')"
   ]
  },
  {
   "cell_type": "code",
   "execution_count": 2,
   "metadata": {},
   "outputs": [],
   "source": [
    "\"\"\"\"\"\"\"\"\"\"\"\"\"\"\"\"\"\n",
    "Required packages\n",
    "\"\"\"\"\"\"\"\"\"\"\"\"\"\"\"\"\"\n",
    "import seaborn as sns\n",
    "import autograd.numpy as np\n",
    "import pandas as pd\n",
    "import scipy.stats as st\n",
    "import matplotlib.pyplot as plt\n",
    "# package which differentiates standard Python and Numpy code\n",
    "from autograd import grad\n",
    "# to get progress bars\n",
    "from tqdm import tqdm"
   ]
  },
  {
   "cell_type": "markdown",
   "metadata": {},
   "source": [
    "In a Bayesian setting, a parameter $x$ is embedded with a prior distribution $\\pi$ and the observations are given by a probabilistic model:\n",
    "\n",
    "$$\n",
    "Y\\sim \\ell(\\cdot|x)\\,.\n",
    "$$\n",
    "\n",
    "\n",
    "The inference is then based on the posterior distribution:\n",
    "$$\n",
    "\\pi(x|Y) = \\frac{\\pi(x)\\ell(Y|x)}{\\int\\pi(u)\\ell(Y|u)\\mathrm{d} u}\\,.\n",
    "$$\n",
    "\n",
    "\n",
    "In most cases the normalizing constant is not tractable:\n",
    "$$\n",
    "\\pi(x|Y) \\propto \\pi(x)\\ell(Y|x)\\,.\n",
    "$$\n",
    "\n",
    "``Markov chain Monte Carlo (MCMC) algorithms`` provide solutions to sample from posterior distributions. ``Hamiltonian Monte Carlo (HMC)`` is a MCMC algorithm that uses gradient information to scale better to higher dimensions. It is used by software like [PyMC3](https://pymc.io/) and [Stan](https://mc-stan.org/). \n",
    "\n",
    "Some references on MCMC...\n",
    "- **Douc R., Moulines E. and Stoffer D.**, Nonlinear time series: theory, methods and applications with R example, 2014, Chapman \\& Hall.\n",
    "- **Michael Betancourt, [A Conceptual Introduction to Hamiltonian Monte Carlo](https://arxiv.org/abs/1701.02434)** A thorough, readable reference that is the main source here\n",
    "\n",
    "In the following cells, we drop $Y$ from the notations and consider a target distribution written $\\pi(x)$."
   ]
  },
  {
   "cell_type": "markdown",
   "metadata": {},
   "source": [
    "### <font color=darkorange> A few simple models </font>"
   ]
  },
  {
   "cell_type": "markdown",
   "metadata": {},
   "source": [
    "In the following, the target density is written $\\pi$. We define below two examples of target densities $\\pi$ which will be used to assess the efficiency of the proposed MCMC algorithm."
   ]
  },
  {
   "cell_type": "markdown",
   "metadata": {},
   "source": [
    "<font color=darkred> Write a function returning the opposite of the log probability density of </font>\n",
    "    \n",
    "<font color=darkred>    i) a Gaussian random variable with mean mu and covariance matrix sigma; </font>\n",
    "    \n",
    "<font color=darkred>    ii) a mixture of probability density functions. </font>"
   ]
  },
  {
   "cell_type": "code",
   "execution_count": 3,
   "metadata": {},
   "outputs": [],
   "source": [
    "def multi_gauss(mu, sigma):\n",
    "    \"\"\"\n",
    "    Inputs\n",
    "    ----------\n",
    "    mu: mean of the Gaussian distribution\n",
    "    sigma: covariance matrix of the Gaussian distribution\n",
    "    \n",
    "    Outputs\n",
    "    -------\n",
    "    logp: opposite of the loglikelihood\n",
    "    \"\"\"\n",
    "\n",
    "    def logp(x):\n",
    "        k   = mu.shape[0]\n",
    "        cst       = k * np.log(2 * np.pi)\n",
    "        det       = np.log(np.linalg.det(sigma))\n",
    "        quad_term = np.dot(np.dot((x - mu).T, np.linalg.inv(sigma)), x - mu)\n",
    "        return (cst +  det + quad_term) * 0.5\n",
    "    \n",
    "    return logp\n",
    "\n",
    "def mixture(log_prob, weights):\n",
    "    \"\"\"\n",
    "    Inputs\n",
    "    ----------\n",
    "    log_prob: opposite of the likelihood of each term\n",
    "    weights: weights of the components of the mixture\n",
    "    \n",
    "    Outputs\n",
    "    -------\n",
    "    logp: opposite of the loglikelihood of the mixture\n",
    "    \"\"\"\n",
    "    \n",
    "    def logp(x):\n",
    "        likelihood = 0\n",
    "        for j in range(np.size(weights)):\n",
    "            log_marginal = -log_prob[j](x)\n",
    "            likelihood   = likelihood + weights[j]*np.exp(log_marginal)\n",
    "        \n",
    "        return -np.log(likelihood)\n",
    "\n",
    "    return logp"
   ]
  },
  {
   "cell_type": "code",
   "execution_count": 4,
   "metadata": {},
   "outputs": [],
   "source": [
    "grid_lim = 6\n",
    "# grid on which the target pdf is displayed\n",
    "grid_plot = (-grid_lim, grid_lim, -grid_lim, grid_lim)\n",
    "# coordinates chosen on this grid\n",
    "nb_points = 100\n",
    "\n",
    "xplot = np.linspace(-grid_lim, grid_lim, nb_points)\n",
    "yplot = np.linspace(-grid_lim, grid_lim, nb_points)\n",
    "Xplot, Yplot = np.meshgrid(xplot, yplot)"
   ]
  },
  {
   "cell_type": "markdown",
   "metadata": {},
   "source": [
    "<font color=darkred> Display a target density defined as a mixture of 2-dimensional Gaussian distributions. </font>"
   ]
  },
  {
   "cell_type": "code",
   "execution_count": 5,
   "metadata": {},
   "outputs": [],
   "source": [
    "mu1 = 2*np.ones(2)\n",
    "cov1 = np.array([[1., 0.5],\n",
    "                [0.5, 1.]])\n",
    "mu2 = -mu1\n",
    "cov2 = np.array([[1., -0.1],\n",
    "                [-0.1, 1.]])\n",
    "\n",
    "mu3 = np.array([-1.5, 2.2])\n",
    "cov3 = 0.8 * np.eye(2)\n",
    "\n",
    "mu4 = np.array([2.5, -4.2])\n",
    "cov4 = 0.5 * np.eye(2)\n",
    "\n",
    "log_p = mixture([multi_gauss(mu1, cov1), multi_gauss(mu2, cov2), multi_gauss(mu3, cov3), multi_gauss(mu4, cov4)], [0.25, 0.35, 0.3,0.1])"
   ]
  },
  {
   "cell_type": "code",
   "execution_count": 6,
   "metadata": {},
   "outputs": [
    {
     "data": {
      "image/png": "[encoded data removed]",
      "text/plain": [
       "<Figure size 432x432 with 1 Axes>"
      ]
     },
     "metadata": {
      "needs_background": "light"
     },
     "output_type": "display_data"
    }
   ],
   "source": [
    "fig = plt.figure(figsize=(6,6))\n",
    "plt.title('Multi-modal target distribution')\n",
    "Zplot = np.copy(Xplot)\n",
    "for i in range(nb_points):\n",
    "    for j in range(nb_points):\n",
    "        Zplot[i][j] = np.exp(-log_p(np.array((Xplot[i][j], Yplot[i][j]))))\n",
    "plt.imshow(Zplot, alpha = 0.9, extent = grid_plot, cmap='Blues', origin='upper')\n",
    "plt.grid(True)"
   ]
  },
  {
   "cell_type": "markdown",
   "metadata": {},
   "source": [
    "## <font color=darkcyan> Metropolis-Hastings algorithm </font>"
   ]
  },
  {
   "cell_type": "markdown",
   "metadata": {},
   "source": [
    "``Objective target density:`` $\\pi(x)$.\n",
    "\n",
    "``Instrumental transition density:`` $q(x,y)$.\n",
    "\n",
    "At each iteration $k\\geqslant 0$, generate $Z_{k+1} \\sim q(X_k,\\cdot)$.\n",
    "\n",
    "Set $X_{k+1} = Z_{k+1}$ with probability $\\alpha(X_k,Z_{k+1})$ and  $X_{k+1} = X_k$ with probability $1-\\alpha(X_k,Z_{k+1})$, where \n",
    "\n",
    "$$\n",
    "\\alpha(x,y) = 1\\wedge\\frac{\\pi(y)}{\\pi(x)}\\frac{q(y,x)}{q(x,y)}\\,.\n",
    "$$"
   ]
  },
  {
   "cell_type": "markdown",
   "metadata": {},
   "source": [
    "<font color=darkred> Write a function which returns samples from Metropolis-Hastings algorithm with Gaussian proposal density.</font>"
   ]
  },
  {
   "cell_type": "code",
   "execution_count": 9,
   "metadata": {},
   "outputs": [],
   "source": [
    "def HM_monte_carlo(n_samples, log_prob, initial_state, step_size = 0.1):\n",
    "    \"\"\"\n",
    "    Inputs\n",
    "    ----------\n",
    "    n_samples: number of samples to return\n",
    "    log_prob: opposite of the loglikelihood to sample from\n",
    "    initial_state: initial sample\n",
    "    step_size: standard deviation of the proposed moves\n",
    "    \n",
    "    Outputs\n",
    "    -------\n",
    "    samples: samples from the MCMC algorithm\n",
    "    accepted: array of 0 and 1 to display which proposed moves have been accepted\n",
    "    \"\"\"\n",
    "    initial_state = np.array(initial_state)\n",
    "    \n",
    "    samples  = [initial_state]\n",
    "    accepted = []\n",
    "\n",
    "    size = (n_samples,) + initial_state.shape[:1]\n",
    "    \n",
    "    # random variable to sample proposed moves\n",
    "    epsilon = st.norm(0, 1).rvs(size)\n",
    "    \n",
    "    for noise in tqdm(epsilon):\n",
    "        \n",
    "        q_new = samples[-1] + step_size*noise\n",
    "       \n",
    "        # acceptance rate\n",
    "        old_log_p = log_prob(samples[-1]) \n",
    "        new_log_p = log_prob(q_new) \n",
    "        \n",
    "        if np.log(np.random.rand()) < old_log_p - new_log_p:\n",
    "            samples.append(q_new)\n",
    "            accepted.append(True)\n",
    "        else:\n",
    "            samples.append(np.copy(samples[-1]))\n",
    "            accepted.append(False)\n",
    "\n",
    "    return (np.array(samples[1:]),np.array(accepted),)"
   ]
  },
  {
   "cell_type": "markdown",
   "metadata": {},
   "source": [
    "## <font color=darkcyan> Metropolis Adjusted Langevin algorithm (MALA) </font>"
   ]
  },
  {
   "cell_type": "markdown",
   "metadata": {},
   "source": [
    "``Objective target density:`` $\\pi(x)$.\n",
    "\n",
    "At each iteration $k\\geqslant 0$, generate $Z_{k+1} \\sim X_k + \\frac{\\sigma^2}{2}\\nabla\\log\\pi(X_k|Y) + \\sigma \\varepsilon_{k+1}$.\n",
    "\n",
    "Set $X_{k+1} = Z_{k+1}$ with probability $\\alpha(X_k,Z_{k+1})$ and  $X_{k+1} = X_k$ with probability $1-\\alpha(X_k,Z_{k+1})$, where \n",
    "\n",
    "$$\n",
    "\\alpha(x,y) = 1\\wedge\\frac{\\pi(y)}{\\pi(x)}\\frac{q(y,x)}{q(x,y)}\\,,\n",
    "$$\n",
    "\n",
    "where $q(x,y)$ is the Gaussian pdf with mean $x + \\frac{\\sigma^2}{2}\\nabla\\log\\pi(x)$ and variance $\\sigma^2 I_d$."
   ]
  },
  {
   "cell_type": "markdown",
   "metadata": {},
   "source": [
    "<font color=darkred> Write a function which returns samples from MALA algorithm.</font>"
   ]
  },
  {
   "cell_type": "code",
   "execution_count": 10,
   "metadata": {},
   "outputs": [],
   "source": [
    "def MALA_monte_carlo(n_samples, log_prob, initial_state, step_size = 0.1):\n",
    "    \"\"\"\n",
    "    Inputs\n",
    "    ----------\n",
    "    n_samples: number of samples to return\n",
    "    log_prob: opposite of the loglikelihood to sample from\n",
    "    initial_state: initial sample\n",
    "    step_size: standard deviation of the proposed moves\n",
    "    \n",
    "    Outputs\n",
    "    -------\n",
    "    samples: samples from the MCMC algorithm\n",
    "    accepted: array of 0 and 1 to display which proposed moves have been accepted\n",
    "    \"\"\"\n",
    "    initial_state = np.array(initial_state)\n",
    "\n",
    "    gradV = grad(log_prob)\n",
    "\n",
    "    samples  = [initial_state]\n",
    "    accepted = []\n",
    "\n",
    "    size = (n_samples,) + initial_state.shape[:1]\n",
    "    \n",
    "    # random variable to sample proposed moves\n",
    "    epsilon = st.norm(0, 1).rvs(size)\n",
    "    \n",
    "    for noise in tqdm(epsilon):\n",
    "        \n",
    "        grad_new = gradV(samples[-1])\n",
    "        mean_new = samples[-1] - 0.5*step_size*step_size*grad_new\n",
    "        \n",
    "        q_new    = mean_new + step_size*noise\n",
    "       \n",
    "        grad_y   = gradV(q_new)\n",
    "        mean_y   = q_new - 0.5*step_size*step_size*grad_y\n",
    "        \n",
    "        # acceptance rate\n",
    "        old_log_p = log_prob(samples[-1]) + 0.5*np.dot(q_new-mean_new,q_new-mean_new)/(step_size**2)\n",
    "        new_log_p = log_prob(q_new) + 0.5*np.dot(samples[-1]-mean_y,samples[-1]-mean_y)/(step_size**2)\n",
    "        \n",
    "        if np.log(np.random.rand()) < old_log_p - new_log_p:\n",
    "            samples.append(q_new)\n",
    "            accepted.append(True)\n",
    "        else:\n",
    "            samples.append(np.copy(samples[-1]))\n",
    "            accepted.append(False)\n",
    "\n",
    "    return (np.array(samples[1:]),np.array(accepted),)"
   ]
  },
  {
   "cell_type": "markdown",
   "metadata": {},
   "source": [
    "### <font color=darkorange> A few samples </font>"
   ]
  },
  {
   "cell_type": "code",
   "execution_count": 11,
   "metadata": {},
   "outputs": [],
   "source": [
    "n_samples = 20000"
   ]
  },
  {
   "cell_type": "markdown",
   "metadata": {},
   "source": [
    "<font color=darkred> Run both algorithms to produce Markov chains with length n_samples.</font>"
   ]
  },
  {
   "cell_type": "code",
   "execution_count": 12,
   "metadata": {},
   "outputs": [
    {
     "name": "stderr",
     "output_type": "stream",
     "text": [
      "100%|██████████| 20000/20000 [00:08<00:00, 2270.54it/s]\n"
     ]
    }
   ],
   "source": [
    "samples_HM, accepted_HM = HM_monte_carlo(n_samples, log_p, np.random.randn(2), 0.1)"
   ]
  },
  {
   "cell_type": "code",
   "execution_count": 13,
   "metadata": {
    "scrolled": true
   },
   "outputs": [
    {
     "name": "stderr",
     "output_type": "stream",
     "text": [
      " 51%|█████     | 10158/20000 [00:48<00:47, 207.34it/s]\n"
     ]
    },
    {
     "ename": "KeyboardInterrupt",
     "evalue": "",
     "output_type": "error",
     "traceback": [
      "\u001b[0;31m---------------------------------------------------------------------------\u001b[0m",
      "\u001b[0;31mKeyboardInterrupt\u001b[0m                         Traceback (most recent call last)",
      "\u001b[0;32m/var/folders/f0/q7nn178n5cldx0lvl6yvbbn40000gn/T/ipykernel_38582/604273685.py\u001b[0m in \u001b[0;36m<module>\u001b[0;34m\u001b[0m\n\u001b[0;32m----> 1\u001b[0;31m \u001b[0msamples_Mala\u001b[0m\u001b[0;34m,\u001b[0m \u001b[0maccepted_Mala\u001b[0m \u001b[0;34m=\u001b[0m \u001b[0mMALA_monte_carlo\u001b[0m\u001b[0;34m(\u001b[0m\u001b[0mn_samples\u001b[0m\u001b[0;34m,\u001b[0m \u001b[0mlog_p\u001b[0m\u001b[0;34m,\u001b[0m \u001b[0mnp\u001b[0m\u001b[0;34m.\u001b[0m\u001b[0mrandom\u001b[0m\u001b[0;34m.\u001b[0m\u001b[0mrandn\u001b[0m\u001b[0;34m(\u001b[0m\u001b[0;36m2\u001b[0m\u001b[0;34m)\u001b[0m\u001b[0;34m,\u001b[0m \u001b[0;36m0.1\u001b[0m\u001b[0;34m)\u001b[0m\u001b[0;34m\u001b[0m\u001b[0;34m\u001b[0m\u001b[0m\n\u001b[0m",
      "\u001b[0;32m/var/folders/f0/q7nn178n5cldx0lvl6yvbbn40000gn/T/ipykernel_38582/3378995129.py\u001b[0m in \u001b[0;36mMALA_monte_carlo\u001b[0;34m(n_samples, log_prob, initial_state, step_size)\u001b[0m\n\u001b[1;32m     32\u001b[0m         \u001b[0mq_new\u001b[0m    \u001b[0;34m=\u001b[0m \u001b[0mmean_new\u001b[0m \u001b[0;34m+\u001b[0m \u001b[0mstep_size\u001b[0m\u001b[0;34m*\u001b[0m\u001b[0mnoise\u001b[0m\u001b[0;34m\u001b[0m\u001b[0;34m\u001b[0m\u001b[0m\n\u001b[1;32m     33\u001b[0m \u001b[0;34m\u001b[0m\u001b[0m\n\u001b[0;32m---> 34\u001b[0;31m         \u001b[0mgrad_y\u001b[0m   \u001b[0;34m=\u001b[0m \u001b[0mgradV\u001b[0m\u001b[0;34m(\u001b[0m\u001b[0mq_new\u001b[0m\u001b[0;34m)\u001b[0m\u001b[0;34m\u001b[0m\u001b[0;34m\u001b[0m\u001b[0m\n\u001b[0m\u001b[1;32m     35\u001b[0m         \u001b[0mmean_y\u001b[0m   \u001b[0;34m=\u001b[0m \u001b[0mq_new\u001b[0m \u001b[0;34m-\u001b[0m \u001b[0;36m0.5\u001b[0m\u001b[0;34m*\u001b[0m\u001b[0mstep_size\u001b[0m\u001b[0;34m*\u001b[0m\u001b[0mstep_size\u001b[0m\u001b[0;34m*\u001b[0m\u001b[0mgrad_y\u001b[0m\u001b[0;34m\u001b[0m\u001b[0;34m\u001b[0m\u001b[0m\n\u001b[1;32m     36\u001b[0m \u001b[0;34m\u001b[0m\u001b[0m\n",
      "\u001b[0;32m~/opt/anaconda3/lib/python3.9/site-packages/autograd/wrap_util.py\u001b[0m in \u001b[0;36mnary_f\u001b[0;34m(*args, **kwargs)\u001b[0m\n\u001b[1;32m     18\u001b[0m             \u001b[0;32melse\u001b[0m\u001b[0;34m:\u001b[0m\u001b[0;34m\u001b[0m\u001b[0;34m\u001b[0m\u001b[0m\n\u001b[1;32m     19\u001b[0m                 \u001b[0mx\u001b[0m \u001b[0;34m=\u001b[0m \u001b[0mtuple\u001b[0m\u001b[0;34m(\u001b[0m\u001b[0margs\u001b[0m\u001b[0;34m[\u001b[0m\u001b[0mi\u001b[0m\u001b[0;34m]\u001b[0m \u001b[0;32mfor\u001b[0m \u001b[0mi\u001b[0m \u001b[0;32min\u001b[0m \u001b[0margnum\u001b[0m\u001b[0;34m)\u001b[0m\u001b[0;34m\u001b[0m\u001b[0;34m\u001b[0m\u001b[0m\n\u001b[0;32m---> 20\u001b[0;31m             \u001b[0;32mreturn\u001b[0m \u001b[0munary_operator\u001b[0m\u001b[0;34m(\u001b[0m\u001b[0munary_f\u001b[0m\u001b[0;34m,\u001b[0m \u001b[0mx\u001b[0m\u001b[0;34m,\u001b[0m \u001b[0;34m*\u001b[0m\u001b[0mnary_op_args\u001b[0m\u001b[0;34m,\u001b[0m \u001b[0;34m**\u001b[0m\u001b[0mnary_op_kwargs\u001b[0m\u001b[0;34m)\u001b[0m\u001b[0;34m\u001b[0m\u001b[0;34m\u001b[0m\u001b[0m\n\u001b[0m\u001b[1;32m     21\u001b[0m         \u001b[0;32mreturn\u001b[0m \u001b[0mnary_f\u001b[0m\u001b[0;34m\u001b[0m\u001b[0;34m\u001b[0m\u001b[0m\n\u001b[1;32m     22\u001b[0m     \u001b[0;32mreturn\u001b[0m \u001b[0mnary_operator\u001b[0m\u001b[0;34m\u001b[0m\u001b[0;34m\u001b[0m\u001b[0m\n",
      "\u001b[0;32m~/opt/anaconda3/lib/python3.9/site-packages/autograd/differential_operators.py\u001b[0m in \u001b[0;36mgrad\u001b[0;34m(fun, x)\u001b[0m\n\u001b[1;32m     26\u001b[0m     \u001b[0marguments\u001b[0m \u001b[0;32mas\u001b[0m\u001b[0;31m \u001b[0m\u001b[0;31m`\u001b[0m\u001b[0mfun\u001b[0m\u001b[0;31m`\u001b[0m\u001b[0;34m,\u001b[0m \u001b[0mbut\u001b[0m \u001b[0mreturns\u001b[0m \u001b[0mthe\u001b[0m \u001b[0mgradient\u001b[0m \u001b[0minstead\u001b[0m\u001b[0;34m.\u001b[0m \u001b[0mThe\u001b[0m \u001b[0mfunction\u001b[0m\u001b[0;31m \u001b[0m\u001b[0;31m`\u001b[0m\u001b[0mfun\u001b[0m\u001b[0;31m`\u001b[0m\u001b[0;34m\u001b[0m\u001b[0;34m\u001b[0m\u001b[0m\n\u001b[1;32m     27\u001b[0m     should be scalar-valued. The gradient has the same type as the argument.\"\"\"\n\u001b[0;32m---> 28\u001b[0;31m     \u001b[0mvjp\u001b[0m\u001b[0;34m,\u001b[0m \u001b[0mans\u001b[0m \u001b[0;34m=\u001b[0m \u001b[0m_make_vjp\u001b[0m\u001b[0;34m(\u001b[0m\u001b[0mfun\u001b[0m\u001b[0;34m,\u001b[0m \u001b[0mx\u001b[0m\u001b[0;34m)\u001b[0m\u001b[0;34m\u001b[0m\u001b[0;34m\u001b[0m\u001b[0m\n\u001b[0m\u001b[1;32m     29\u001b[0m     \u001b[0;32mif\u001b[0m \u001b[0;32mnot\u001b[0m \u001b[0mvspace\u001b[0m\u001b[0;34m(\u001b[0m\u001b[0mans\u001b[0m\u001b[0;34m)\u001b[0m\u001b[0;34m.\u001b[0m\u001b[0msize\u001b[0m \u001b[0;34m==\u001b[0m \u001b[0;36m1\u001b[0m\u001b[0;34m:\u001b[0m\u001b[0;34m\u001b[0m\u001b[0;34m\u001b[0m\u001b[0m\n\u001b[1;32m     30\u001b[0m         raise TypeError(\"Grad only applies to real scalar-output functions. \"\n",
      "\u001b[0;32m~/opt/anaconda3/lib/python3.9/site-packages/autograd/core.py\u001b[0m in \u001b[0;36mmake_vjp\u001b[0;34m(fun, x)\u001b[0m\n\u001b[1;32m      8\u001b[0m \u001b[0;32mdef\u001b[0m \u001b[0mmake_vjp\u001b[0m\u001b[0;34m(\u001b[0m\u001b[0mfun\u001b[0m\u001b[0;34m,\u001b[0m \u001b[0mx\u001b[0m\u001b[0;34m)\u001b[0m\u001b[0;34m:\u001b[0m\u001b[0;34m\u001b[0m\u001b[0;34m\u001b[0m\u001b[0m\n\u001b[1;32m      9\u001b[0m     \u001b[0mstart_node\u001b[0m \u001b[0;34m=\u001b[0m \u001b[0mVJPNode\u001b[0m\u001b[0;34m.\u001b[0m\u001b[0mnew_root\u001b[0m\u001b[0;34m(\u001b[0m\u001b[0;34m)\u001b[0m\u001b[0;34m\u001b[0m\u001b[0;34m\u001b[0m\u001b[0m\n\u001b[0;32m---> 10\u001b[0;31m     \u001b[0mend_value\u001b[0m\u001b[0;34m,\u001b[0m \u001b[0mend_node\u001b[0m \u001b[0;34m=\u001b[0m  \u001b[0mtrace\u001b[0m\u001b[0;34m(\u001b[0m\u001b[0mstart_node\u001b[0m\u001b[0;34m,\u001b[0m \u001b[0mfun\u001b[0m\u001b[0;34m,\u001b[0m \u001b[0mx\u001b[0m\u001b[0;34m)\u001b[0m\u001b[0;34m\u001b[0m\u001b[0;34m\u001b[0m\u001b[0m\n\u001b[0m\u001b[1;32m     11\u001b[0m     \u001b[0;32mif\u001b[0m \u001b[0mend_node\u001b[0m \u001b[0;32mis\u001b[0m \u001b[0;32mNone\u001b[0m\u001b[0;34m:\u001b[0m\u001b[0;34m\u001b[0m\u001b[0;34m\u001b[0m\u001b[0m\n\u001b[1;32m     12\u001b[0m         \u001b[0;32mdef\u001b[0m \u001b[0mvjp\u001b[0m\u001b[0;34m(\u001b[0m\u001b[0mg\u001b[0m\u001b[0;34m)\u001b[0m\u001b[0;34m:\u001b[0m \u001b[0;32mreturn\u001b[0m \u001b[0mvspace\u001b[0m\u001b[0;34m(\u001b[0m\u001b[0mx\u001b[0m\u001b[0;34m)\u001b[0m\u001b[0;34m.\u001b[0m\u001b[0mzeros\u001b[0m\u001b[0;34m(\u001b[0m\u001b[0;34m)\u001b[0m\u001b[0;34m\u001b[0m\u001b[0;34m\u001b[0m\u001b[0m\n",
      "\u001b[0;32m~/opt/anaconda3/lib/python3.9/site-packages/autograd/tracer.py\u001b[0m in \u001b[0;36mtrace\u001b[0;34m(start_node, fun, x)\u001b[0m\n\u001b[1;32m      8\u001b[0m     \u001b[0;32mwith\u001b[0m \u001b[0mtrace_stack\u001b[0m\u001b[0;34m.\u001b[0m\u001b[0mnew_trace\u001b[0m\u001b[0;34m(\u001b[0m\u001b[0;34m)\u001b[0m \u001b[0;32mas\u001b[0m \u001b[0mt\u001b[0m\u001b[0;34m:\u001b[0m\u001b[0;34m\u001b[0m\u001b[0;34m\u001b[0m\u001b[0m\n\u001b[1;32m      9\u001b[0m         \u001b[0mstart_box\u001b[0m \u001b[0;34m=\u001b[0m \u001b[0mnew_box\u001b[0m\u001b[0;34m(\u001b[0m\u001b[0mx\u001b[0m\u001b[0;34m,\u001b[0m \u001b[0mt\u001b[0m\u001b[0;34m,\u001b[0m \u001b[0mstart_node\u001b[0m\u001b[0;34m)\u001b[0m\u001b[0;34m\u001b[0m\u001b[0;34m\u001b[0m\u001b[0m\n\u001b[0;32m---> 10\u001b[0;31m         \u001b[0mend_box\u001b[0m \u001b[0;34m=\u001b[0m \u001b[0mfun\u001b[0m\u001b[0;34m(\u001b[0m\u001b[0mstart_box\u001b[0m\u001b[0;34m)\u001b[0m\u001b[0;34m\u001b[0m\u001b[0;34m\u001b[0m\u001b[0m\n\u001b[0m\u001b[1;32m     11\u001b[0m         \u001b[0;32mif\u001b[0m \u001b[0misbox\u001b[0m\u001b[0;34m(\u001b[0m\u001b[0mend_box\u001b[0m\u001b[0;34m)\u001b[0m \u001b[0;32mand\u001b[0m \u001b[0mend_box\u001b[0m\u001b[0;34m.\u001b[0m\u001b[0m_trace\u001b[0m \u001b[0;34m==\u001b[0m \u001b[0mstart_box\u001b[0m\u001b[0;34m.\u001b[0m\u001b[0m_trace\u001b[0m\u001b[0;34m:\u001b[0m\u001b[0;34m\u001b[0m\u001b[0;34m\u001b[0m\u001b[0m\n\u001b[1;32m     12\u001b[0m             \u001b[0;32mreturn\u001b[0m \u001b[0mend_box\u001b[0m\u001b[0;34m.\u001b[0m\u001b[0m_value\u001b[0m\u001b[0;34m,\u001b[0m \u001b[0mend_box\u001b[0m\u001b[0;34m.\u001b[0m\u001b[0m_node\u001b[0m\u001b[0;34m\u001b[0m\u001b[0;34m\u001b[0m\u001b[0m\n",
      "\u001b[0;32m~/opt/anaconda3/lib/python3.9/site-packages/autograd/wrap_util.py\u001b[0m in \u001b[0;36munary_f\u001b[0;34m(x)\u001b[0m\n\u001b[1;32m     13\u001b[0m                 \u001b[0;32melse\u001b[0m\u001b[0;34m:\u001b[0m\u001b[0;34m\u001b[0m\u001b[0;34m\u001b[0m\u001b[0m\n\u001b[1;32m     14\u001b[0m                     \u001b[0msubargs\u001b[0m \u001b[0;34m=\u001b[0m \u001b[0msubvals\u001b[0m\u001b[0;34m(\u001b[0m\u001b[0margs\u001b[0m\u001b[0;34m,\u001b[0m \u001b[0mzip\u001b[0m\u001b[0;34m(\u001b[0m\u001b[0margnum\u001b[0m\u001b[0;34m,\u001b[0m \u001b[0mx\u001b[0m\u001b[0;34m)\u001b[0m\u001b[0;34m)\u001b[0m\u001b[0;34m\u001b[0m\u001b[0;34m\u001b[0m\u001b[0m\n\u001b[0;32m---> 15\u001b[0;31m                 \u001b[0;32mreturn\u001b[0m \u001b[0mfun\u001b[0m\u001b[0;34m(\u001b[0m\u001b[0;34m*\u001b[0m\u001b[0msubargs\u001b[0m\u001b[0;34m,\u001b[0m \u001b[0;34m**\u001b[0m\u001b[0mkwargs\u001b[0m\u001b[0;34m)\u001b[0m\u001b[0;34m\u001b[0m\u001b[0;34m\u001b[0m\u001b[0m\n\u001b[0m\u001b[1;32m     16\u001b[0m             \u001b[0;32mif\u001b[0m \u001b[0misinstance\u001b[0m\u001b[0;34m(\u001b[0m\u001b[0margnum\u001b[0m\u001b[0;34m,\u001b[0m \u001b[0mint\u001b[0m\u001b[0;34m)\u001b[0m\u001b[0;34m:\u001b[0m\u001b[0;34m\u001b[0m\u001b[0;34m\u001b[0m\u001b[0m\n\u001b[1;32m     17\u001b[0m                 \u001b[0mx\u001b[0m \u001b[0;34m=\u001b[0m \u001b[0margs\u001b[0m\u001b[0;34m[\u001b[0m\u001b[0margnum\u001b[0m\u001b[0;34m]\u001b[0m\u001b[0;34m\u001b[0m\u001b[0;34m\u001b[0m\u001b[0m\n",
      "\u001b[0;32m/var/folders/f0/q7nn178n5cldx0lvl6yvbbn40000gn/T/ipykernel_38582/2476918535.py\u001b[0m in \u001b[0;36mlogp\u001b[0;34m(x)\u001b[0m\n\u001b[1;32m     35\u001b[0m         \u001b[0mlikelihood\u001b[0m \u001b[0;34m=\u001b[0m \u001b[0;36m0\u001b[0m\u001b[0;34m\u001b[0m\u001b[0;34m\u001b[0m\u001b[0m\n\u001b[1;32m     36\u001b[0m         \u001b[0;32mfor\u001b[0m \u001b[0mj\u001b[0m \u001b[0;32min\u001b[0m \u001b[0mrange\u001b[0m\u001b[0;34m(\u001b[0m\u001b[0mnp\u001b[0m\u001b[0;34m.\u001b[0m\u001b[0msize\u001b[0m\u001b[0;34m(\u001b[0m\u001b[0mweights\u001b[0m\u001b[0;34m)\u001b[0m\u001b[0;34m)\u001b[0m\u001b[0;34m:\u001b[0m\u001b[0;34m\u001b[0m\u001b[0;34m\u001b[0m\u001b[0m\n\u001b[0;32m---> 37\u001b[0;31m             \u001b[0mlog_marginal\u001b[0m \u001b[0;34m=\u001b[0m \u001b[0;34m-\u001b[0m\u001b[0mlog_prob\u001b[0m\u001b[0;34m[\u001b[0m\u001b[0mj\u001b[0m\u001b[0;34m]\u001b[0m\u001b[0;34m(\u001b[0m\u001b[0mx\u001b[0m\u001b[0;34m)\u001b[0m\u001b[0;34m\u001b[0m\u001b[0;34m\u001b[0m\u001b[0m\n\u001b[0m\u001b[1;32m     38\u001b[0m             \u001b[0mlikelihood\u001b[0m   \u001b[0;34m=\u001b[0m \u001b[0mlikelihood\u001b[0m \u001b[0;34m+\u001b[0m \u001b[0mweights\u001b[0m\u001b[0;34m[\u001b[0m\u001b[0mj\u001b[0m\u001b[0;34m]\u001b[0m\u001b[0;34m*\u001b[0m\u001b[0mnp\u001b[0m\u001b[0;34m.\u001b[0m\u001b[0mexp\u001b[0m\u001b[0;34m(\u001b[0m\u001b[0mlog_marginal\u001b[0m\u001b[0;34m)\u001b[0m\u001b[0;34m\u001b[0m\u001b[0;34m\u001b[0m\u001b[0m\n\u001b[1;32m     39\u001b[0m \u001b[0;34m\u001b[0m\u001b[0m\n",
      "\u001b[0;32m/var/folders/f0/q7nn178n5cldx0lvl6yvbbn40000gn/T/ipykernel_38582/2476918535.py\u001b[0m in \u001b[0;36mlogp\u001b[0;34m(x)\u001b[0m\n\u001b[1;32m     15\u001b[0m         \u001b[0mcst\u001b[0m       \u001b[0;34m=\u001b[0m \u001b[0mk\u001b[0m \u001b[0;34m*\u001b[0m \u001b[0mnp\u001b[0m\u001b[0;34m.\u001b[0m\u001b[0mlog\u001b[0m\u001b[0;34m(\u001b[0m\u001b[0;36m2\u001b[0m \u001b[0;34m*\u001b[0m \u001b[0mnp\u001b[0m\u001b[0;34m.\u001b[0m\u001b[0mpi\u001b[0m\u001b[0;34m)\u001b[0m\u001b[0;34m\u001b[0m\u001b[0;34m\u001b[0m\u001b[0m\n\u001b[1;32m     16\u001b[0m         \u001b[0mdet\u001b[0m       \u001b[0;34m=\u001b[0m \u001b[0mnp\u001b[0m\u001b[0;34m.\u001b[0m\u001b[0mlog\u001b[0m\u001b[0;34m(\u001b[0m\u001b[0mnp\u001b[0m\u001b[0;34m.\u001b[0m\u001b[0mlinalg\u001b[0m\u001b[0;34m.\u001b[0m\u001b[0mdet\u001b[0m\u001b[0;34m(\u001b[0m\u001b[0msigma\u001b[0m\u001b[0;34m)\u001b[0m\u001b[0;34m)\u001b[0m\u001b[0;34m\u001b[0m\u001b[0;34m\u001b[0m\u001b[0m\n\u001b[0;32m---> 17\u001b[0;31m         \u001b[0mquad_term\u001b[0m \u001b[0;34m=\u001b[0m \u001b[0mnp\u001b[0m\u001b[0;34m.\u001b[0m\u001b[0mdot\u001b[0m\u001b[0;34m(\u001b[0m\u001b[0mnp\u001b[0m\u001b[0;34m.\u001b[0m\u001b[0mdot\u001b[0m\u001b[0;34m(\u001b[0m\u001b[0;34m(\u001b[0m\u001b[0mx\u001b[0m \u001b[0;34m-\u001b[0m \u001b[0mmu\u001b[0m\u001b[0;34m)\u001b[0m\u001b[0;34m.\u001b[0m\u001b[0mT\u001b[0m\u001b[0;34m,\u001b[0m \u001b[0mnp\u001b[0m\u001b[0;34m.\u001b[0m\u001b[0mlinalg\u001b[0m\u001b[0;34m.\u001b[0m\u001b[0minv\u001b[0m\u001b[0;34m(\u001b[0m\u001b[0msigma\u001b[0m\u001b[0;34m)\u001b[0m\u001b[0;34m)\u001b[0m\u001b[0;34m,\u001b[0m \u001b[0mx\u001b[0m \u001b[0;34m-\u001b[0m \u001b[0mmu\u001b[0m\u001b[0;34m)\u001b[0m\u001b[0;34m\u001b[0m\u001b[0;34m\u001b[0m\u001b[0m\n\u001b[0m\u001b[1;32m     18\u001b[0m         \u001b[0;32mreturn\u001b[0m \u001b[0;34m(\u001b[0m\u001b[0mcst\u001b[0m \u001b[0;34m+\u001b[0m  \u001b[0mdet\u001b[0m \u001b[0;34m+\u001b[0m \u001b[0mquad_term\u001b[0m\u001b[0;34m)\u001b[0m \u001b[0;34m*\u001b[0m \u001b[0;36m0.5\u001b[0m\u001b[0;34m\u001b[0m\u001b[0;34m\u001b[0m\u001b[0m\n\u001b[1;32m     19\u001b[0m \u001b[0;34m\u001b[0m\u001b[0m\n",
      "\u001b[0;32m~/opt/anaconda3/lib/python3.9/site-packages/autograd/numpy/numpy_boxes.py\u001b[0m in \u001b[0;36m__sub__\u001b[0;34m(self, other)\u001b[0m\n\u001b[1;32m     24\u001b[0m     \u001b[0;32mdef\u001b[0m \u001b[0m__neg__\u001b[0m\u001b[0;34m(\u001b[0m\u001b[0mself\u001b[0m\u001b[0;34m)\u001b[0m\u001b[0;34m:\u001b[0m \u001b[0;32mreturn\u001b[0m \u001b[0manp\u001b[0m\u001b[0;34m.\u001b[0m\u001b[0mnegative\u001b[0m\u001b[0;34m(\u001b[0m\u001b[0mself\u001b[0m\u001b[0;34m)\u001b[0m\u001b[0;34m\u001b[0m\u001b[0;34m\u001b[0m\u001b[0m\n\u001b[1;32m     25\u001b[0m     \u001b[0;32mdef\u001b[0m \u001b[0m__add__\u001b[0m\u001b[0;34m(\u001b[0m\u001b[0mself\u001b[0m\u001b[0;34m,\u001b[0m \u001b[0mother\u001b[0m\u001b[0;34m)\u001b[0m\u001b[0;34m:\u001b[0m \u001b[0;32mreturn\u001b[0m \u001b[0manp\u001b[0m\u001b[0;34m.\u001b[0m\u001b[0madd\u001b[0m\u001b[0;34m(\u001b[0m     \u001b[0mself\u001b[0m\u001b[0;34m,\u001b[0m \u001b[0mother\u001b[0m\u001b[0;34m)\u001b[0m\u001b[0;34m\u001b[0m\u001b[0;34m\u001b[0m\u001b[0m\n\u001b[0;32m---> 26\u001b[0;31m     \u001b[0;32mdef\u001b[0m \u001b[0m__sub__\u001b[0m\u001b[0;34m(\u001b[0m\u001b[0mself\u001b[0m\u001b[0;34m,\u001b[0m \u001b[0mother\u001b[0m\u001b[0;34m)\u001b[0m\u001b[0;34m:\u001b[0m \u001b[0;32mreturn\u001b[0m \u001b[0manp\u001b[0m\u001b[0;34m.\u001b[0m\u001b[0msubtract\u001b[0m\u001b[0;34m(\u001b[0m\u001b[0mself\u001b[0m\u001b[0;34m,\u001b[0m \u001b[0mother\u001b[0m\u001b[0;34m)\u001b[0m\u001b[0;34m\u001b[0m\u001b[0;34m\u001b[0m\u001b[0m\n\u001b[0m\u001b[1;32m     27\u001b[0m     \u001b[0;32mdef\u001b[0m \u001b[0m__mul__\u001b[0m\u001b[0;34m(\u001b[0m\u001b[0mself\u001b[0m\u001b[0;34m,\u001b[0m \u001b[0mother\u001b[0m\u001b[0;34m)\u001b[0m\u001b[0;34m:\u001b[0m \u001b[0;32mreturn\u001b[0m \u001b[0manp\u001b[0m\u001b[0;34m.\u001b[0m\u001b[0mmultiply\u001b[0m\u001b[0;34m(\u001b[0m\u001b[0mself\u001b[0m\u001b[0;34m,\u001b[0m \u001b[0mother\u001b[0m\u001b[0;34m)\u001b[0m\u001b[0;34m\u001b[0m\u001b[0;34m\u001b[0m\u001b[0m\n\u001b[1;32m     28\u001b[0m     \u001b[0;32mdef\u001b[0m \u001b[0m__pow__\u001b[0m\u001b[0;34m(\u001b[0m\u001b[0mself\u001b[0m\u001b[0;34m,\u001b[0m \u001b[0mother\u001b[0m\u001b[0;34m)\u001b[0m\u001b[0;34m:\u001b[0m \u001b[0;32mreturn\u001b[0m \u001b[0manp\u001b[0m\u001b[0;34m.\u001b[0m\u001b[0mpower\u001b[0m   \u001b[0;34m(\u001b[0m\u001b[0mself\u001b[0m\u001b[0;34m,\u001b[0m \u001b[0mother\u001b[0m\u001b[0;34m)\u001b[0m\u001b[0;34m\u001b[0m\u001b[0;34m\u001b[0m\u001b[0m\n",
      "\u001b[0;32m~/opt/anaconda3/lib/python3.9/site-packages/autograd/tracer.py\u001b[0m in \u001b[0;36mf_wrapped\u001b[0;34m(*args, **kwargs)\u001b[0m\n\u001b[1;32m     43\u001b[0m             \u001b[0margnums\u001b[0m \u001b[0;34m=\u001b[0m \u001b[0mtuple\u001b[0m\u001b[0;34m(\u001b[0m\u001b[0margnum\u001b[0m    \u001b[0;32mfor\u001b[0m \u001b[0margnum\u001b[0m\u001b[0;34m,\u001b[0m \u001b[0m_\u001b[0m   \u001b[0;32min\u001b[0m \u001b[0mboxed_args\u001b[0m\u001b[0;34m)\u001b[0m\u001b[0;34m\u001b[0m\u001b[0;34m\u001b[0m\u001b[0m\n\u001b[1;32m     44\u001b[0m             \u001b[0mans\u001b[0m \u001b[0;34m=\u001b[0m \u001b[0mf_wrapped\u001b[0m\u001b[0;34m(\u001b[0m\u001b[0;34m*\u001b[0m\u001b[0margvals\u001b[0m\u001b[0;34m,\u001b[0m \u001b[0;34m**\u001b[0m\u001b[0mkwargs\u001b[0m\u001b[0;34m)\u001b[0m\u001b[0;34m\u001b[0m\u001b[0;34m\u001b[0m\u001b[0m\n\u001b[0;32m---> 45\u001b[0;31m             \u001b[0mnode\u001b[0m \u001b[0;34m=\u001b[0m \u001b[0mnode_constructor\u001b[0m\u001b[0;34m(\u001b[0m\u001b[0mans\u001b[0m\u001b[0;34m,\u001b[0m \u001b[0mf_wrapped\u001b[0m\u001b[0;34m,\u001b[0m \u001b[0margvals\u001b[0m\u001b[0;34m,\u001b[0m \u001b[0mkwargs\u001b[0m\u001b[0;34m,\u001b[0m \u001b[0margnums\u001b[0m\u001b[0;34m,\u001b[0m \u001b[0mparents\u001b[0m\u001b[0;34m)\u001b[0m\u001b[0;34m\u001b[0m\u001b[0;34m\u001b[0m\u001b[0m\n\u001b[0m\u001b[1;32m     46\u001b[0m             \u001b[0;32mreturn\u001b[0m \u001b[0mnew_box\u001b[0m\u001b[0;34m(\u001b[0m\u001b[0mans\u001b[0m\u001b[0;34m,\u001b[0m \u001b[0mtrace\u001b[0m\u001b[0;34m,\u001b[0m \u001b[0mnode\u001b[0m\u001b[0;34m)\u001b[0m\u001b[0;34m\u001b[0m\u001b[0;34m\u001b[0m\u001b[0m\n\u001b[1;32m     47\u001b[0m         \u001b[0;32melse\u001b[0m\u001b[0;34m:\u001b[0m\u001b[0;34m\u001b[0m\u001b[0;34m\u001b[0m\u001b[0m\n",
      "\u001b[0;32m~/opt/anaconda3/lib/python3.9/site-packages/autograd/core.py\u001b[0m in \u001b[0;36m__init__\u001b[0;34m(self, value, fun, args, kwargs, parent_argnums, parents)\u001b[0m\n\u001b[1;32m     34\u001b[0m             raise NotImplementedError(\"VJP of {} wrt argnums {} not defined\"\n\u001b[1;32m     35\u001b[0m                                       .format(fun_name, parent_argnums))\n\u001b[0;32m---> 36\u001b[0;31m         \u001b[0mself\u001b[0m\u001b[0;34m.\u001b[0m\u001b[0mvjp\u001b[0m \u001b[0;34m=\u001b[0m \u001b[0mvjpmaker\u001b[0m\u001b[0;34m(\u001b[0m\u001b[0mparent_argnums\u001b[0m\u001b[0;34m,\u001b[0m \u001b[0mvalue\u001b[0m\u001b[0;34m,\u001b[0m \u001b[0margs\u001b[0m\u001b[0;34m,\u001b[0m \u001b[0mkwargs\u001b[0m\u001b[0;34m)\u001b[0m\u001b[0;34m\u001b[0m\u001b[0;34m\u001b[0m\u001b[0m\n\u001b[0m\u001b[1;32m     37\u001b[0m \u001b[0;34m\u001b[0m\u001b[0m\n\u001b[1;32m     38\u001b[0m     \u001b[0;32mdef\u001b[0m \u001b[0minitialize_root\u001b[0m\u001b[0;34m(\u001b[0m\u001b[0mself\u001b[0m\u001b[0;34m)\u001b[0m\u001b[0;34m:\u001b[0m\u001b[0;34m\u001b[0m\u001b[0;34m\u001b[0m\u001b[0m\n",
      "\u001b[0;32m~/opt/anaconda3/lib/python3.9/site-packages/autograd/core.py\u001b[0m in \u001b[0;36mvjp_argnums\u001b[0;34m(argnums, ans, args, kwargs)\u001b[0m\n\u001b[1;32m     64\u001b[0m                 raise NotImplementedError(\n\u001b[1;32m     65\u001b[0m                     \"VJP of {} wrt argnum 0 not defined\".format(fun.__name__))\n\u001b[0;32m---> 66\u001b[0;31m             \u001b[0mvjp\u001b[0m \u001b[0;34m=\u001b[0m \u001b[0mvjpfun\u001b[0m\u001b[0;34m(\u001b[0m\u001b[0mans\u001b[0m\u001b[0;34m,\u001b[0m \u001b[0;34m*\u001b[0m\u001b[0margs\u001b[0m\u001b[0;34m,\u001b[0m \u001b[0;34m**\u001b[0m\u001b[0mkwargs\u001b[0m\u001b[0;34m)\u001b[0m\u001b[0;34m\u001b[0m\u001b[0;34m\u001b[0m\u001b[0m\n\u001b[0m\u001b[1;32m     67\u001b[0m             \u001b[0;32mreturn\u001b[0m \u001b[0;32mlambda\u001b[0m \u001b[0mg\u001b[0m\u001b[0;34m:\u001b[0m \u001b[0;34m(\u001b[0m\u001b[0mvjp\u001b[0m\u001b[0;34m(\u001b[0m\u001b[0mg\u001b[0m\u001b[0;34m)\u001b[0m\u001b[0;34m,\u001b[0m\u001b[0;34m)\u001b[0m\u001b[0;34m\u001b[0m\u001b[0;34m\u001b[0m\u001b[0m\n\u001b[1;32m     68\u001b[0m         \u001b[0;32melif\u001b[0m \u001b[0mL\u001b[0m \u001b[0;34m==\u001b[0m \u001b[0;36m2\u001b[0m\u001b[0;34m:\u001b[0m\u001b[0;34m\u001b[0m\u001b[0;34m\u001b[0m\u001b[0m\n",
      "\u001b[0;32m~/opt/anaconda3/lib/python3.9/site-packages/autograd/numpy/numpy_vjps.py\u001b[0m in \u001b[0;36m<lambda>\u001b[0;34m(ans, x, y)\u001b[0m\n\u001b[1;32m     34\u001b[0m defvjp(anp.multiply,    lambda ans, x, y : unbroadcast_f(x, lambda g: y * g),\n\u001b[1;32m     35\u001b[0m                         lambda ans, x, y : unbroadcast_f(y, lambda g: x * g))\n\u001b[0;32m---> 36\u001b[0;31m defvjp(anp.subtract,    lambda ans, x, y : unbroadcast_f(x, lambda g: g),\n\u001b[0m\u001b[1;32m     37\u001b[0m                         lambda ans, x, y : unbroadcast_f(y, lambda g: -g))\n\u001b[1;32m     38\u001b[0m defvjp(anp.divide,      lambda ans, x, y : unbroadcast_f(x, lambda g:   g / y),\n",
      "\u001b[0;32m~/opt/anaconda3/lib/python3.9/site-packages/autograd/numpy/numpy_vjps.py\u001b[0m in \u001b[0;36munbroadcast_f\u001b[0;34m(target, f)\u001b[0m\n\u001b[1;32m    657\u001b[0m \u001b[0;34m\u001b[0m\u001b[0m\n\u001b[1;32m    658\u001b[0m \u001b[0;32mdef\u001b[0m \u001b[0munbroadcast_f\u001b[0m\u001b[0;34m(\u001b[0m\u001b[0mtarget\u001b[0m\u001b[0;34m,\u001b[0m \u001b[0mf\u001b[0m\u001b[0;34m)\u001b[0m\u001b[0;34m:\u001b[0m\u001b[0;34m\u001b[0m\u001b[0;34m\u001b[0m\u001b[0m\n\u001b[0;32m--> 659\u001b[0;31m     \u001b[0mtarget_meta\u001b[0m \u001b[0;34m=\u001b[0m \u001b[0manp\u001b[0m\u001b[0;34m.\u001b[0m\u001b[0mmetadata\u001b[0m\u001b[0;34m(\u001b[0m\u001b[0mtarget\u001b[0m\u001b[0;34m)\u001b[0m\u001b[0;34m\u001b[0m\u001b[0;34m\u001b[0m\u001b[0m\n\u001b[0m\u001b[1;32m    660\u001b[0m     \u001b[0;32mreturn\u001b[0m \u001b[0;32mlambda\u001b[0m \u001b[0mg\u001b[0m\u001b[0;34m:\u001b[0m \u001b[0munbroadcast\u001b[0m\u001b[0;34m(\u001b[0m\u001b[0mf\u001b[0m\u001b[0;34m(\u001b[0m\u001b[0mg\u001b[0m\u001b[0;34m)\u001b[0m\u001b[0;34m,\u001b[0m \u001b[0mtarget_meta\u001b[0m\u001b[0;34m)\u001b[0m\u001b[0;34m\u001b[0m\u001b[0;34m\u001b[0m\u001b[0m\n\u001b[1;32m    661\u001b[0m \u001b[0;34m\u001b[0m\u001b[0m\n",
      "\u001b[0;32m~/opt/anaconda3/lib/python3.9/site-packages/autograd/tracer.py\u001b[0m in \u001b[0;36mf_wrapped\u001b[0;34m(*args, **kwargs)\u001b[0m\n\u001b[1;32m     56\u001b[0m \u001b[0;34m\u001b[0m\u001b[0m\n\u001b[1;32m     57\u001b[0m \u001b[0;32mdef\u001b[0m \u001b[0mnotrace_primitive\u001b[0m\u001b[0;34m(\u001b[0m\u001b[0mf_raw\u001b[0m\u001b[0;34m)\u001b[0m\u001b[0;34m:\u001b[0m\u001b[0;34m\u001b[0m\u001b[0;34m\u001b[0m\u001b[0m\n\u001b[0;32m---> 58\u001b[0;31m     \u001b[0;34m@\u001b[0m\u001b[0mwraps\u001b[0m\u001b[0;34m(\u001b[0m\u001b[0mf_raw\u001b[0m\u001b[0;34m)\u001b[0m\u001b[0;34m\u001b[0m\u001b[0;34m\u001b[0m\u001b[0m\n\u001b[0m\u001b[1;32m     59\u001b[0m     \u001b[0;32mdef\u001b[0m \u001b[0mf_wrapped\u001b[0m\u001b[0;34m(\u001b[0m\u001b[0;34m*\u001b[0m\u001b[0margs\u001b[0m\u001b[0;34m,\u001b[0m \u001b[0;34m**\u001b[0m\u001b[0mkwargs\u001b[0m\u001b[0;34m)\u001b[0m\u001b[0;34m:\u001b[0m\u001b[0;34m\u001b[0m\u001b[0;34m\u001b[0m\u001b[0m\n\u001b[1;32m     60\u001b[0m         \u001b[0margvals\u001b[0m \u001b[0;34m=\u001b[0m \u001b[0mmap\u001b[0m\u001b[0;34m(\u001b[0m\u001b[0mgetval\u001b[0m\u001b[0;34m,\u001b[0m \u001b[0margs\u001b[0m\u001b[0;34m)\u001b[0m\u001b[0;34m\u001b[0m\u001b[0;34m\u001b[0m\u001b[0m\n",
      "\u001b[0;31mKeyboardInterrupt\u001b[0m: "
     ]
    }
   ],
   "source": [
    "samples_Mala, accepted_Mala = MALA_monte_carlo(n_samples, log_p, np.random.randn(2), 0.1)"
   ]
  },
  {
   "cell_type": "code",
   "execution_count": null,
   "metadata": {},
   "outputs": [],
   "source": [
    "fig = plt.figure(figsize=(10,10))\n",
    "plt.title('Multi-modal target distribution')\n",
    "Zplot = np.copy(Xplot)\n",
    "for i in range(nb_points):\n",
    "    for j in range(nb_points):\n",
    "        Zplot[i][j] = np.exp(-log_p(np.array((Xplot[i][j], Yplot[i][j]))))\n",
    "plt.imshow(Zplot, alpha = 0.9, extent = grid_plot, cmap='Blues', origin='top')\n",
    "plt.plot(samples_HM[:,0], samples_HM[:,1], '.', color='orange', alpha = 0.3, label = 'Metropolis-Hastings')\n",
    "plt.plot(samples_Mala[:,0], samples_Mala[:,1], '.', color='violet', alpha = 0.3, label = 'MALA')\n",
    "plt.grid(True)\n",
    "plt.legend();"
   ]
  },
  {
   "cell_type": "markdown",
   "metadata": {},
   "source": [
    "### <font color=darkorange> Parameters tuning </font>"
   ]
  },
  {
   "cell_type": "markdown",
   "metadata": {},
   "source": [
    "<font color=darkred>Display the mean acceptance rate for both algorithms</font>"
   ]
  },
  {
   "cell_type": "markdown",
   "metadata": {},
   "source": [
    "<font color=darkred>Provide an estimate of the mean of the target distribution for both algorithms</font>"
   ]
  },
  {
   "cell_type": "markdown",
   "metadata": {},
   "source": [
    "<font color=darkred>Analyze the influence of the step-size for both algorithms (in particular on the mean acceptance rates)</font>"
   ]
  },
  {
   "cell_type": "markdown",
   "metadata": {},
   "source": [
    "<font color=darkred>Provide a comparison between the empirical distributions from the target and for both algorithms</font>"
   ]
  },
  {
   "cell_type": "markdown",
   "metadata": {},
   "source": [
    "## <font color=darkcyan> Hamiltonian Monte Carlo </font>"
   ]
  },
  {
   "cell_type": "markdown",
   "metadata": {},
   "source": [
    "### <font color=darkorange> Framework </font>"
   ]
  },
  {
   "cell_type": "markdown",
   "metadata": {},
   "source": [
    "The unknown  parameters are gathered into a _position_ variable, usually written $\\mathbf{q}$. \n",
    "An auxiliary variable, called ``momentum`` and written $\\mathbf{p}$, is introduced to define the extended joint probability distribution \n",
    "\n",
    "$$\n",
    "\\pi(\\mathbf{q}, \\mathbf{p}) =  \\pi(\\mathbf{q}) \\pi(\\mathbf{p} | \\mathbf{q})\\,,\n",
    "$$\n",
    "\n",
    "In most cases $\\pi(\\mathbf{p} | \\mathbf{q})$ is the probability density of a Gaussian random variable with mean $0$ and variance $M$.\n",
    "\n",
    "The ``Hamiltonian`` associated with this model is  $H(\\mathbf{q}, \\mathbf{p}) = -\\log \\pi(\\mathbf{q}, \\mathbf{p})$ so that\n",
    "\n",
    "$$\n",
    "H(\\mathbf{q}, \\mathbf{p}) = -\\log \\pi(\\mathbf{p} | \\mathbf{q}) - \\log \\pi(\\mathbf{q}) = K(\\mathbf{p}, \\mathbf{q}) + V(\\mathbf{q}|Y)\\,,\n",
    "$$\n",
    "\n",
    "where $K(\\mathbf{p}, \\mathbf{q})$ is called the _kinetic energy_, and $V(\\mathbf{q})$ is called the _potential energy_.\n",
    "\n",
    "The dynamics of the system $(\\mathbf{q}, \\mathbf{p})$ is assumed to follow _Hamilton's equations_:\n",
    "\n",
    "$$\n",
    "\\frac{\\mathrm{d} \\mathbf{q}}{\\mathrm{d}t} = \\frac{\\partial H}{\\partial \\mathbf{p}} = \\frac{\\partial K}{\\partial \\mathbf{p}} + \\frac{\\partial V}{\\partial \\mathbf{p}}\\\\\n",
    "\\frac{\\mathrm{d} \\mathbf{p}}{\\mathrm{d}t} = -\\frac{\\partial H}{\\partial \\mathbf{q}}= -\\frac{\\partial K}{\\partial \\mathbf{q}} + \\frac{\\partial V}{\\partial \\mathbf{q}}\n",
    "$$\n",
    "\n",
    "\n",
    "When $\\pi(\\mathbf{p} | \\mathbf{q},Y)$ is the probability density of a Gaussian random variable with mean $0$ and variance $M$, this yields\n",
    "\n",
    "$$\n",
    "K(\\mathbf{p}, \\mathbf{q}) = \\frac{1}{2}\\mathbf{p}^T M^{-1}\\mathbf{p} + \\log |M| + \\text{C},\n",
    "$$\n",
    "\n",
    "In the specific case of $M=I$,  \n",
    "$$\n",
    "K(\\mathbf{p}, \\mathbf{q}) = \\frac{1}{2}\\mathbf{p}^T \\mathbf{p} + \\text{C}\\,,\n",
    "$$\n",
    "\n",
    "so that\n",
    "\n",
    "$$\n",
    "\\frac{\\partial K}{\\partial \\mathbf{p}} = \\mathbf{p} \\quad \\mathrm{and} \\quad \\frac{\\partial K}{\\partial \\mathbf{q}} = \\mathbf{0}\\,.\n",
    "$$\n",
    "\n",
    "\n",
    "Finally,\n",
    "\n",
    "$$\n",
    "\\frac{\\mathrm{d} \\mathbf{q}}{\\mathrm{d}t}  = \\mathbf{p}\\quad \\mathrm{and} \\quad \\frac{\\mathrm{d} \\mathbf{p}}{\\mathrm{d}t} = - \\frac{\\partial V}{\\partial \\mathbf{q}}\\,.\n",
    "$$"
   ]
  },
  {
   "cell_type": "markdown",
   "metadata": {},
   "source": [
    "<font color=darkred> Write a function returning the positions and momemtums of a Euler scheme based interator </font>"
   ]
  },
  {
   "cell_type": "code",
   "execution_count": null,
   "metadata": {},
   "outputs": [],
   "source": [
    "def euler_integrator(q, p, gradientV, T, step):\n",
    "    \"\"\"\n",
    "    Inputs\n",
    "    ----------\n",
    "    q: initial position\n",
    "    p: initial momentum\n",
    "    gradientV: gradient of the velocity\n",
    "    T: time horizon\n",
    "    step: step size to discretize the ODE\n",
    "    \n",
    "    Outputs\n",
    "    -------\n",
    "    q, p: last position and last momentum\n",
    "    posisions: sequence of positions produced by the Euler based scheme integrator\n",
    "    momentums: sequence of momentums produced by the Euler based scheme integrator\n",
    "    \"\"\"\n",
    "    \n",
    "    q, p      = np.copy(q), np.copy(p)\n",
    "    pos, moms = [np.copy(q)], [np.copy(p)]\n",
    "\n",
    "    vq = gradientV(q)\n",
    "    nb_steps = int(T / step)\n",
    "    \n",
    "    for it in range(nb_steps):\n",
    "        p = p - step * vq\n",
    "        q = q + step * p  \n",
    "        pos.append(np.copy(q))\n",
    "        vq = gradientV(q)\n",
    "        moms.append(np.copy(p))\n",
    "\n",
    "    return q, -p, np.array(pos), np.array(moms)"
   ]
  },
  {
   "cell_type": "markdown",
   "metadata": {},
   "source": [
    "### <font color=darkorange> The Leapfrog integrator </font>\n",
    "The leapfrog integrator may be used to approximate the ordinary differential equations (ODE) $q$ and $p$ are solutions to. \n",
    "\n",
    "It involves updating the momentum `p` a half step, then the position `q` a whole step, and then finish updating `p` the other half of the step.\n",
    "\n",
    "A momentum flip at the end is required to preserve the reversibility of the algorithm."
   ]
  },
  {
   "cell_type": "markdown",
   "metadata": {},
   "source": [
    "<font color=darkred> Write a function returning the positions and momemtums of a leapfrog interator </font>"
   ]
  },
  {
   "cell_type": "code",
   "execution_count": null,
   "metadata": {},
   "outputs": [],
   "source": [
    "def leapfrog_integrator(q, p, gradientV, T, step):\n",
    "    \"\"\"\n",
    "    Inputs\n",
    "    ----------\n",
    "    q: initial position\n",
    "    p: initial momentum\n",
    "    gradientV: gradient of the velocity\n",
    "    T: time horizon\n",
    "    step: step size to discretize the ODE\n",
    "    \n",
    "    Outputs\n",
    "    -------\n",
    "    q, p: last position and last momentum\n",
    "    posisions: sequence of positions produced by the leapfrog integrator\n",
    "    momentums: sequence of momentums produced by the leapfrog integrator\n",
    "    \"\"\"\n",
    "    \n",
    "    q, p      = np.copy(q), np.copy(p)\n",
    "    pos, moms = [np.copy(q)], [np.copy(p)]\n",
    "\n",
    "    vq = gradientV(q)\n",
    "    nb_steps = int(T / step)\n",
    "    \n",
    "    for it in range(nb_steps):\n",
    "        p = p - 0.5*step * vq \n",
    "        q = q + step * p  \n",
    "        pos.append(np.copy(q))\n",
    "        vq = gradientV(q)\n",
    "        p = p - 0.5*step * vq\n",
    "        moms.append(np.copy(p))\n",
    "\n",
    "    return q, -p, np.array(pos), np.array(moms)"
   ]
  },
  {
   "cell_type": "markdown",
   "metadata": {},
   "source": [
    "<font color=darkred> Illustrate the points proposed by the leapfrog integrator along a trajectory for a 2-dimensional Gaussian distribution. </font>"
   ]
  },
  {
   "cell_type": "code",
   "execution_count": null,
   "metadata": {},
   "outputs": [],
   "source": [
    "log_density = multi_gauss(np.zeros(2), np.eye(2))\n",
    "gradV = grad(log_density)"
   ]
  },
  {
   "cell_type": "code",
   "execution_count": null,
   "metadata": {},
   "outputs": [],
   "source": [
    "q, p = np.random.randn(2, 2)\n",
    "_, _, positions_leap, momentums_leap = leapfrog_integrator(q, p, gradV, 2 * np.pi, 0.1)\n",
    "_, _, positions_euler, momentums_euler = euler_integrator(q, p, gradV, 2 * np.pi, 0.1)\n",
    "fig = plt.figure(figsize=(8,8))\n",
    "plt.title('One trajectory from the integrators - unimodal case')\n",
    "\n",
    "Zplot = np.copy(Xplot)\n",
    "for i in range(nb_points):\n",
    "    for j in range(nb_points):\n",
    "        Zplot[i][j] = np.exp(-log_density(np.array((Xplot[i][j], Yplot[i][j]))))\n",
    "\n",
    "plt.imshow(Zplot, alpha=0.9, extent = grid_plot, cmap='Blues', origin='top')\n",
    "plt.plot(positions_leap[:,0], positions_leap[:,1], marker='o', markersize = 1, markeredgecolor='black', label = 'Leapfrog integrator')\n",
    "plt.plot(positions_euler[:,0], positions_euler[:,1], marker='o', markersize = 1, markeredgecolor='orange', label = 'Euler based integrator')\n",
    "plt.tick_params(labelright=True)\n",
    "plt.grid(True)\n",
    "plt.legend();"
   ]
  },
  {
   "cell_type": "code",
   "execution_count": null,
   "metadata": {},
   "outputs": [],
   "source": [
    "q, p = np.random.randn(2, 2)\n",
    "_, _, positions_leap, momentums_leap = leapfrog_integrator(q, p, gradV, 2 * np.pi, 0.5)\n",
    "_, _, positions_euler, momentums_euler = euler_integrator(q, p, gradV, 2 * np.pi, 0.5)\n",
    "fig = plt.figure(figsize=(8,8))\n",
    "plt.title('One trajectory from the integrators - unimodal case')\n",
    "plt.imshow(Zplot, alpha=0.9, extent = grid_plot, cmap='Blues', origin='top')\n",
    "plt.plot(positions_leap[:,0], positions_leap[:,1], marker='o', markersize = 4, markeredgecolor='black', label = 'Leapfrog integrator')\n",
    "plt.plot(positions_euler[:,0], positions_euler[:,1], marker='o', markersize = 4, markeredgecolor='orange', label = 'Euler based integrator')\n",
    "plt.tick_params(labelright=True)\n",
    "plt.grid(True)\n",
    "plt.legend();"
   ]
  },
  {
   "cell_type": "code",
   "execution_count": null,
   "metadata": {},
   "outputs": [],
   "source": [
    "fig = plt.figure(figsize=(8,8))\n",
    "plt.title('Several trajectories obtained from the leapfrog integrator - unimodal case')\n",
    "positions, momentums = [], []\n",
    "for _ in range(3):\n",
    "    q, p = np.random.randn(2, 2)\n",
    "    _, _, pos, moms = leapfrog_integrator(q, p, gradV, 2 * np.pi, 0.01)\n",
    "    positions.append(pos)\n",
    "    momentums.append(moms)\n",
    "\n",
    "plt.imshow(Zplot, alpha = 0.9, extent = grid_plot, cmap = 'Blues', origin = 'top')\n",
    "\n",
    "for idx_traj in range(3):\n",
    "    plt.plot(positions[idx_traj][:,0], positions[idx_traj][:,1], marker='o', markersize = 1, label = 'Trajectory %g'%idx_traj)\n",
    "plt.tick_params(labelright=True)\n",
    "plt.grid(True)\n",
    "plt.legend();"
   ]
  },
  {
   "cell_type": "markdown",
   "metadata": {},
   "source": [
    "<font color=darkred> Display several trajectories of the leapfrog integrator for a target defined as a mixture of 2-dimensional Gaussian distributions. </font>"
   ]
  },
  {
   "cell_type": "code",
   "execution_count": null,
   "metadata": {},
   "outputs": [],
   "source": [
    "mu1 = 2*np.ones(2)\n",
    "cov1 = np.array([[1., 0.5],\n",
    "                [0.5, 1.]])\n",
    "mu2 = -mu1\n",
    "cov2 = np.array([[1., -0.1],\n",
    "                [-0.1, 1.]])\n",
    "\n",
    "mu3 = np.array([-1.5, 2.2])\n",
    "cov3 = 0.8 * np.eye(2)\n",
    "\n",
    "logp  = mixture([multi_gauss(mu1, cov1), multi_gauss(mu2, cov2), multi_gauss(mu3, cov3)], [0.25, 0.35, 0.4])\n",
    "gradV = grad(logp)\n",
    "\n",
    "\n",
    "positions, momentums = [], []\n",
    "for it in range(5):\n",
    "    q, p = np.random.randn(2, 2)\n",
    "    _, _, pos, moms = leapfrog_integrator(q, p, gradV, 4 * np.pi, 0.01)\n",
    "    positions.append(pos)\n",
    "    momentums.append(moms)"
   ]
  },
  {
   "cell_type": "code",
   "execution_count": null,
   "metadata": {},
   "outputs": [],
   "source": [
    "fig = plt.figure(figsize=(8,8))\n",
    "plt.title('Several trajectories obtained from the leapfrog integrator - multimodal case')\n",
    "\n",
    "Zplot = np.copy(Xplot)\n",
    "for i in range(nb_points):\n",
    "    for j in range(nb_points):\n",
    "        Zplot[i][j] = np.exp(-logp(np.array((Xplot[i][j], Yplot[i][j]))))\n",
    "\n",
    "plt.imshow(Zplot, alpha = 0.9, extent = grid_plot, cmap = 'Blues', origin = 'top')\n",
    "\n",
    "for idx_traj in range(5):\n",
    "    plt.plot(positions[idx_traj][:,0], positions[idx_traj][:,1], marker='.', markersize = 1, label = 'Trajectory %g'%idx_traj)\n",
    "plt.tick_params(labelright=True)\n",
    "plt.grid(True)\n",
    "plt.legend();"
   ]
  },
  {
   "cell_type": "markdown",
   "metadata": {},
   "source": [
    "### <font color=darkorange> The Hamiltonian loop </font>\n"
   ]
  },
  {
   "cell_type": "markdown",
   "metadata": {},
   "source": [
    "<font color=darkred> Use the leapfrog function to write a Hamiltonian loop i.e. a Hamiltonian MCMC with a generic target distribution. </font>"
   ]
  },
  {
   "cell_type": "code",
   "execution_count": null,
   "metadata": {},
   "outputs": [],
   "source": [
    "def hamiltonian_monte_carlo(n_samples, log_prob, initial_position, T = 1, step_size = 0.1):\n",
    "    \"\"\"\n",
    "    Inputs\n",
    "    ----------\n",
    "    n_samples: number of samples to return.\n",
    "    log_prob: opposite of the target log probability.\n",
    "    initial_position: a place to start sampling from.\n",
    "    T: length of leapfrog integration.\n",
    "    step_size: step size of the integration scheme.\n",
    "    \n",
    "    Outputs\n",
    "    -------\n",
    "    samples: samples produced by the HMC.\n",
    "    sample_positions: positions obtained by the leapfrog integrator at each time step.\n",
    "    sample_momentums: momentums obtained by the leapfrog integrator at each time step.\n",
    "    accepted: array of 0 and 1 to display which proposed moves have been accepted.\n",
    "    \"\"\"\n",
    "    initial_position = np.array(initial_position)\n",
    "    \n",
    "    gradV = grad(log_prob)\n",
    "\n",
    "    samples = [initial_position]\n",
    "    sample_positions, sample_momentums = [], []\n",
    "    accepted = []\n",
    "\n",
    "    size = (n_samples,) + initial_position.shape[:1]\n",
    "    \n",
    "    # all momentums\n",
    "    momentum = st.norm(0, 1).rvs(size)\n",
    "    \n",
    "    for p0 in tqdm(momentum):\n",
    "        q_new, p_new, positions, momentums = leapfrog_integrator(samples[-1], p0, gradV, 2 * np.random.rand() * T,step_size)\n",
    "        sample_positions.append(positions)\n",
    "        sample_momentums.append(momentums)\n",
    "\n",
    "        # acceptance rate\n",
    "        old_log_p = log_prob(samples[-1]) - np.sum(st.norm(0, 1).logpdf(p0))\n",
    "        new_log_p = log_prob(q_new) - np.sum(st.norm(0, 1).logpdf(p_new))\n",
    "        \n",
    "        if np.log(np.random.rand()) < old_log_p - new_log_p:\n",
    "            samples.append(q_new)\n",
    "            accepted.append(True)\n",
    "        else:\n",
    "            samples.append(np.copy(samples[-1]))\n",
    "            accepted.append(False)\n",
    "\n",
    "    return (np.array(samples[1:]),np.array(sample_positions),np.array(sample_momentums),np.array(accepted),)"
   ]
  },
  {
   "cell_type": "markdown",
   "metadata": {},
   "source": [
    "<font color=darkred> Display several trajectories of the HMC loop for a Gaussian target distribution </font>\n",
    "\n",
    "<font color=darkred>i) Illustrate the influence of the total length of the leapfrog integrator. </font>\n",
    "\n",
    "<font color=darkred>ii) Illustrate the influence of the step size of the leapfrog integrator. </font>\n",
    "\n",
    "<font color=darkred>iii) Compare the performance with a HM algorithm. </font>\n",
    "\n",
    "<font color=darkred>iv) Compare the performance with a MALA algorithm. </font>"
   ]
  },
  {
   "cell_type": "code",
   "execution_count": null,
   "metadata": {},
   "outputs": [],
   "source": [
    "log_p = multi_gauss(np.zeros(2), np.eye(2))\n",
    "\n",
    "n_samples = 150\n",
    "step_size = 0.1"
   ]
  },
  {
   "cell_type": "code",
   "execution_count": null,
   "metadata": {},
   "outputs": [],
   "source": [
    "all_T = [1, 5, 10, 15]\n",
    "samples_HMC = []\n",
    "positions_HMC = []\n",
    "momentums_HMC = []\n",
    "\n",
    "for T in all_T:\n",
    "    samples, positions, momentums, accepted = hamiltonian_monte_carlo(n_samples, log_p, np.random.randn(2), T, step_size)\n",
    "    samples_HMC.append(samples)\n",
    "    positions_HMC.append(positions)\n",
    "    momentums_HMC.append(momentums)"
   ]
  },
  {
   "cell_type": "code",
   "execution_count": null,
   "metadata": {},
   "outputs": [],
   "source": [
    "samples_HM, accepted_HM = HM_monte_carlo(5*n_samples, log_p, np.random.randn(2), 0.1)"
   ]
  },
  {
   "cell_type": "code",
   "execution_count": null,
   "metadata": {},
   "outputs": [],
   "source": [
    "samples_Mala, accepted_Mala = MALA_monte_carlo(5*n_samples, log_p, np.random.randn(2), 0.1)"
   ]
  },
  {
   "cell_type": "code",
   "execution_count": null,
   "metadata": {},
   "outputs": [],
   "source": [
    "fig = plt.figure(figsize=(14,14))\n",
    "ax1  = fig.add_subplot(221)\n",
    "ax2  = fig.add_subplot(222) \n",
    "ax3  = fig.add_subplot(223)\n",
    "ax4  = fig.add_subplot(224)\n",
    "ax1.set_title('Length of the leapfrog: %g'%all_T[0])\n",
    "ax2.set_title('Length of the leapfrog: %g'%all_T[1])\n",
    "ax3.set_title('Length of the leapfrog: %g'%all_T[2])\n",
    "ax4.set_title('Length of the leapfrog: %g'%all_T[3])\n",
    "\n",
    "Zplot = np.copy(Xplot)\n",
    "for i in range(nb_points):\n",
    "    for j in range(nb_points):\n",
    "        Zplot[i][j] = np.exp(-log_p(np.array((Xplot[i][j], Yplot[i][j]))))\n",
    "\n",
    "ax1.imshow(Zplot, alpha = 0.9, extent = grid_plot, cmap='Blues', origin='top')\n",
    "ax1.plot(samples_HMC[0][:,0], samples_HMC[0][:,1], '.', color='black', label = 'Hamiltonian')\n",
    "ax1.plot(samples_HM[:,0], samples_HM[:,1], '.', color='orange', alpha = 0.6, label = 'Metropolis-Hastings')\n",
    "ax1.plot(samples_Mala[:,0], samples_Mala[:,1], '.', color='violet', alpha = 0.6, label = 'MALA')\n",
    "ax1.grid(True)\n",
    "for i in range(n_samples):\n",
    "    ax1.plot(positions_HMC[0][i][:, 0], positions_HMC[0][i][:, 1], 'k--', lw = 1, alpha = 0.2)\n",
    "ax1.legend()\n",
    "\n",
    "ax2.imshow(Zplot, alpha = 0.9, extent = grid_plot, cmap='Blues', origin='top')\n",
    "ax2.plot(samples_HMC[1][:,0], samples_HMC[1][:,1], '.', color='black')\n",
    "ax2.plot(samples_HM[:,0], samples_HM[:,1], '.', color='orange', alpha = 0.6)\n",
    "ax2.plot(samples_Mala[:,0], samples_Mala[:,1], '.', color='violet', alpha = 0.6)\n",
    "ax2.grid(True)\n",
    "for i in range(n_samples):\n",
    "    ax2.plot(positions_HMC[1][i][:, 0], positions_HMC[1][i][:, 1], 'k--', lw = 1, alpha = 0.2)\n",
    "    \n",
    "ax3.imshow(Zplot, alpha = 0.9, extent = grid_plot, cmap='Blues', origin='top')\n",
    "ax3.plot(samples_HMC[2][:,0], samples_HMC[2][:,1], '.', color='black')\n",
    "ax3.plot(samples_HM[:,0], samples_HM[:,1], '.', color='orange', alpha = 0.6)\n",
    "ax3.plot(samples_Mala[:,0], samples_Mala[:,1], '.', color='violet', alpha = 0.6)\n",
    "ax3.grid(True)\n",
    "for i in range(n_samples):\n",
    "    ax3.plot(positions_HMC[2][i][:, 0], positions_HMC[2][i][:, 1], 'k--', lw = 1, alpha = 0.2)\n",
    "    \n",
    "ax4.imshow(Zplot, alpha = 0.9, extent = grid_plot, cmap='Blues', origin='top')\n",
    "ax4.plot(samples_HMC[3][:,0], samples_HMC[3][:,1], '.', color='black')\n",
    "ax4.plot(samples_HM[:,0], samples_HM[:,1], '.', color='orange', alpha = 0.6)\n",
    "ax4.plot(samples_Mala[:,0], samples_Mala[:,1], '.', color='violet', alpha = 0.6)\n",
    "ax4.grid(True)\n",
    "for i in range(n_samples):\n",
    "    ax4.plot(positions_HMC[3][i][:, 0], positions_HMC[3][i][:, 1], 'k--', lw = 1, alpha = 0.2)"
   ]
  },
  {
   "cell_type": "markdown",
   "metadata": {},
   "source": [
    "<font color=darkred> Display several trajectories of the HMC algorithm for a target defined as a mixture of Gaussian distributions. </font>\n",
    "\n",
    "<font color=darkred>i) Illustrate the influence of the total length of the leapfrog integrator. </font>\n",
    "\n",
    "<font color=darkred>ii) Illustrate the influence of the step size of the leapfrog integrator. </font>\n",
    "\n",
    "<font color=darkred>iii) Compare the performance with a HM algorithm. </font>\n",
    "\n",
    "<font color=darkred>iv) Compare the performance with a MALA algorithm. </font>"
   ]
  },
  {
   "cell_type": "code",
   "execution_count": null,
   "metadata": {},
   "outputs": [],
   "source": [
    "mu1 = 2*np.ones(2)\n",
    "cov1 = np.array([[1., 0.5],\n",
    "                [0.5, 1.]])\n",
    "mu2 = -mu1\n",
    "cov2 = np.array([[1., -0.1],\n",
    "                [-0.1, 1.]])\n",
    "\n",
    "mu3 = np.array([-1.5, 2.2])\n",
    "cov3 = 0.8 * np.eye(2)\n",
    "\n",
    "mu4 = np.array([2.5, -4.2])\n",
    "cov4 = 0.5 * np.eye(2)\n",
    "\n",
    "log_p = mixture([multi_gauss(mu1, cov1), multi_gauss(mu2, cov2), multi_gauss(mu3, cov3), multi_gauss(mu4, cov4)], [0.25, 0.35, 0.3,0.1])"
   ]
  },
  {
   "cell_type": "markdown",
   "metadata": {},
   "source": [
    "<font color=darkred>Total length of the leapfrog integrator. </font>"
   ]
  },
  {
   "cell_type": "code",
   "execution_count": null,
   "metadata": {},
   "outputs": [],
   "source": [
    "n_samples = 150\n",
    "step_size = 0.1\n",
    "all_T = [1, 5, 10, 15]\n",
    "samples_HMC = []\n",
    "positions_HMC = []\n",
    "momentums_HMC = []\n",
    "\n",
    "for T in all_T:\n",
    "    samples, positions, momentums, accepted = hamiltonian_monte_carlo(n_samples, log_p, np.random.randn(2), T, step_size)\n",
    "    samples_HMC.append(samples)\n",
    "    positions_HMC.append(positions)\n",
    "    momentums_HMC.append(momentums)"
   ]
  },
  {
   "cell_type": "code",
   "execution_count": null,
   "metadata": {},
   "outputs": [],
   "source": [
    "samples_HM, accepted_HM = HM_monte_carlo(5*n_samples, log_p, np.random.randn(2), step_size)"
   ]
  },
  {
   "cell_type": "code",
   "execution_count": null,
   "metadata": {},
   "outputs": [],
   "source": [
    "samples_Mala, accepted_Mala = MALA_monte_carlo(5*n_samples, log_p, np.random.randn(2), step_size)"
   ]
  },
  {
   "cell_type": "code",
   "execution_count": null,
   "metadata": {},
   "outputs": [],
   "source": [
    "fig = plt.figure(figsize=(14,14))\n",
    "ax1  = fig.add_subplot(221)\n",
    "ax2  = fig.add_subplot(222) \n",
    "ax3  = fig.add_subplot(223)\n",
    "ax4  = fig.add_subplot(224)\n",
    "ax1.set_title('Length of the leapfrog: %g'%all_T[0])\n",
    "ax2.set_title('Length of the leapfrog: %g'%all_T[1])\n",
    "ax3.set_title('Length of the leapfrog: %g'%all_T[2])\n",
    "ax4.set_title('Length of the leapfrog: %g'%all_T[3])\n",
    "\n",
    "Zplot = np.copy(Xplot)\n",
    "for i in range(nb_points):\n",
    "    for j in range(nb_points):\n",
    "        Zplot[i][j] = np.exp(-log_p(np.array((Xplot[i][j], Yplot[i][j]))))\n",
    "\n",
    "ax1.imshow(Zplot, alpha = 0.9, extent = grid_plot, cmap='Blues', origin='top')\n",
    "ax1.plot(samples_HMC[0][:,0], samples_HMC[0][:,1], '.', color='black', label = 'Hamiltonian')\n",
    "ax1.plot(samples_HM[:,0], samples_HM[:,1], '.', color='orange', alpha = 0.6, label = 'Metropolis-Hastings')\n",
    "ax1.plot(samples_Mala[:,0], samples_Mala[:,1], '.', color='violet', alpha = 0.6, label = 'MALA')\n",
    "ax1.grid(True)\n",
    "#for i in range(n_samples):\n",
    "#    ax1.plot(positions_HMC[0][i][:, 0], positions_HMC[0][i][:, 1], 'k--', lw = 1, alpha = 0.2)\n",
    "ax1.legend()\n",
    "    \n",
    "ax2.imshow(Zplot, alpha = 0.9, extent = grid_plot, cmap='Blues', origin='top')\n",
    "ax2.plot(samples_HMC[1][:,0], samples_HMC[1][:,1], '.', color='black')\n",
    "ax2.plot(samples_HM[:,0], samples_HM[:,1], '.', color='orange', alpha = 0.6)\n",
    "ax2.plot(samples_Mala[:,0], samples_Mala[:,1], '.', color='violet', alpha = 0.6)\n",
    "ax2.grid(True)\n",
    "#for i in range(n_samples):\n",
    "#    ax2.plot(positions_HMC[1][i][:, 0], positions_HMC[1][i][:, 1], 'k--', lw = 1, alpha = 0.2)\n",
    "    \n",
    "ax3.imshow(Zplot, alpha = 0.9, extent = grid_plot, cmap='Blues', origin='top')\n",
    "ax3.plot(samples_HMC[2][:,0], samples_HMC[2][:,1], '.', color='black')\n",
    "ax3.plot(samples_HM[:,0], samples_HM[:,1], '.', color='orange', alpha = 0.6)\n",
    "ax3.plot(samples_Mala[:,0], samples_Mala[:,1], '.', color='violet', alpha = 0.6)\n",
    "ax3.grid(True)\n",
    "#for i in range(n_samples):\n",
    "#    ax3.plot(positions_HMC[2][i][:, 0], positions_HMC[2][i][:, 1], 'k--', lw = 1, alpha = 0.2)\n",
    "    \n",
    "ax4.imshow(Zplot, alpha = 0.9, extent = grid_plot, cmap='Blues', origin='top')\n",
    "ax4.plot(samples_HMC[3][:,0], samples_HMC[3][:,1], '.', color='black')\n",
    "ax4.plot(samples_HM[:,0], samples_HM[:,1], '.', color='orange', alpha = 0.6)\n",
    "ax4.plot(samples_Mala[:,0], samples_Mala[:,1], '.', color='violet', alpha = 0.6)\n",
    "ax4.grid(True)\n",
    "#for i in range(n_samples):\n",
    "#    ax4.plot(positions_HMC[3][i][:, 0], positions_HMC[3][i][:, 1], 'k--', lw = 1, alpha = 0.2)"
   ]
  },
  {
   "cell_type": "markdown",
   "metadata": {},
   "source": [
    "### <font color=darkorange> Parameters tuning </font>"
   ]
  },
  {
   "cell_type": "markdown",
   "metadata": {},
   "source": [
    "<font color=darkred>Analyze the optimal tuning of the HMC parameters: variance matrix of the momentums, step-size, length of the symplectic integration...</font>"
   ]
  },
  {
   "cell_type": "code",
   "execution_count": null,
   "metadata": {},
   "outputs": [],
   "source": []
  },
  {
   "cell_type": "code",
   "execution_count": null,
   "metadata": {},
   "outputs": [],
   "source": []
  },
  {
   "cell_type": "code",
   "execution_count": null,
   "metadata": {},
   "outputs": [],
   "source": []
  },
  {
   "cell_type": "code",
   "execution_count": null,
   "metadata": {},
   "outputs": [],
   "source": []
  },
  {
   "cell_type": "code",
   "execution_count": null,
   "metadata": {},
   "outputs": [],
   "source": []
  },
  {
   "cell_type": "code",
   "execution_count": null,
   "metadata": {},
   "outputs": [],
   "source": []
  }
 ],
 "metadata": {
  "kernelspec": {
   "display_name": "Python 3 (ipykernel)",
   "language": "python",
   "name": "python3"
  },
  "language_info": {
   "codemirror_mode": {
    "name": "ipython",
    "version": 3
   },
   "file_extension": ".py",
   "mimetype": "text/x-python",
   "name": "python",
   "nbconvert_exporter": "python",
   "pygments_lexer": "ipython3",
   "version": "3.9.7"
  }
 },
 "nbformat": 4,
 "nbformat_minor": 4
}
